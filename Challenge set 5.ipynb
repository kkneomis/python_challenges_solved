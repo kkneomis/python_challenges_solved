{
 "cells": [
  {
   "cell_type": "markdown",
   "metadata": {},
   "source": [
    "# Challenge set 5"
   ]
  },
  {
   "cell_type": "markdown",
   "metadata": {},
   "source": [
    "__5.1__ #Monopoly Dice\n",
    "\n",
    "Create a program that will randomly select two numbers from 1-6 (like rolling two dice). Show the dice rolls and end the program UNLESS the program rolls doubles. If the program rolls doubles, then it should roll again, show the new roll and stop UNLESS the program rolls doubles again and so on. But on the third time you roll doubles, you don't get to roll again, on the third time you roll doubles, you go to jail!\n",
    "\n",
    "The program should print the sum of the rolls and indicate if the user should stop or roll again or go to Jail. See the example output below.\n",
    "\n",
    "```\n",
    "User rolls  2  &  6\n",
    "Move 8 Spaces and stop\n",
    "User rolls  3  &  3\n",
    "DOUBLES!\n",
    "```\n",
    "```\n",
    "Move 6 Spaces and roll again getting...\n",
    "User rolls 1 & 2\n",
    "Move 3 Spaces and stop\n",
    "```\n",
    "```\n",
    "User rolls  2  &  2\n",
    "DOUBLES!\n",
    "Move 4 Spaces and roll again getting...\n",
    "User rolls 1 & 1\n",
    "DOUBLES\n",
    "Move 2 Spaces and roll again getting...\n",
    "User rolls 6 & 6\n",
    "DOUBLES\n",
    "GO TO JAIL --->\n",
    "```"
   ]
  },
  {
   "cell_type": "code",
   "execution_count": null,
   "metadata": {
    "collapsed": true
   },
   "outputs": [],
   "source": []
  },
  {
   "cell_type": "code",
   "execution_count": null,
   "metadata": {
    "collapsed": true
   },
   "outputs": [],
   "source": []
  },
  {
   "cell_type": "markdown",
   "metadata": {},
   "source": [
    "__5.2__ ##Make a short \"Choose Your Own Adventure\" game. \n",
    "\n",
    "It should feature at least two options after the first page, at least two options for each of the two second-level pages, and at least two options for each of the four third-level pages, for a total of a minimum of eight possible destinations. (but we expect it to take you about 35 minutes so if you have more time, make more branches!)\n",
    "\n",
    "For this assignment, you should submit the link to your github repository.\n",
    "\n",
    "\n",
    "```\n",
    "WELCOME TO MITCHELL'S TINY ADVENTURE!\n",
    "\n",
    "You are in a creepy house!  Would you like to go \"upstairs\" or into the\n",
    "\"kitchen\"?\n",
    "> kitchen\n",
    "\n",
    "There is a long countertop with dirty dishes everywhere.  Off to one side\n",
    "there is, as you'd expect, a refrigerator. You may open the \"refrigerator\"\n",
    "or look in a \"cabinet\".\n",
    "> refrigerator\n",
    "\n",
    "Inside the refrigerator you see food and stuff.  It looks pretty nasty.\n",
    "Would you like to eat some of the food? (\"yes\" or \"no\")\n",
    "> no\n",
    "```\n",
    "```\n",
    "You die of starvation... eventually.\n",
    "WELCOME TO MITCHELL'S TINY ADVENTURE!\n",
    "\n",
    "You are in a creepy house!  Would you like to go \"upstairs\" or into the\n",
    "\"kitchen\"?\n",
    "> upstairs"
   ]
  },
  {
   "cell_type": "code",
   "execution_count": null,
   "metadata": {
    "collapsed": true
   },
   "outputs": [],
   "source": []
  },
  {
   "cell_type": "code",
   "execution_count": null,
   "metadata": {
    "collapsed": true
   },
   "outputs": [],
   "source": []
  },
  {
   "cell_type": "markdown",
   "metadata": {},
   "source": [
    "__5.3__ A deck of cards contains 52 cards.  Some are red, some are black, and there are 4 different suits.  You will be dealt hands of cards from a standard deck.  Group each hand by color, then by suit, and then by face value.  Your output should list the amount of cards in each grouping.\n",
    "```\n",
    "Program Input\n",
    "\n",
    "The file Prob5.3.in.txt will contain the following:  \n",
    "•\tA hand of cards will appear on one line.  Cards will be separated by spaces.  \n",
    "•\tEach hand will be on a separate line.  \n",
    "•\tEach hand will have a random number of cards.  \n",
    "•\tThe cards will be listed by face value then suit (i.e. 5C would be the 5 of Clubs).  \n",
    "•\tThere are 4 suits in a deck of playing cards: Clubs, Diamonds, Hearts, and Spades.  \n",
    "•\tSpades and Clubs are always BLACK.  Hearts and Diamonds are always RED.  \n",
    "•\tThe letters J, Q, K, and A will represent Jack, Queen, King, and Ace respectively.  \n",
    "•\tNo Jokers will be dealt.\n",
    "\n",
    "\n",
    "Example Input:\n",
    "\n",
    "9H JS AC 3H 10S 9C 5H 7C 4S QS 2D 2S 8H 9D 3D 7H 7S AS 10H\n",
    "AS JC 7H 8D KH JC 5C 9H 10D 2S 7S 6H\n",
    "JH KD 10D 10H 2H AH 8D 7H 5H 4D 9H 3D KH\n",
    "\n",
    "\n",
    "Your output should contain the groupings of cards in each hand.  The total number of cards for each group should be printed followed by a dash (-) and then the name of the group.   If a color or a suit is not in the hand, a value of 0 should be printed for the group.  Face values that are not present should be omitted from the output.  For the color lines, always use the words “RED” and “BLACK” (i.e. don’t put a trailing S on either category).  For the suit and face value lines, use plurals as appropriate.\n",
    "\n",
    "Separate each hand by a title of “HAND #” in the order that it was given in the input file.  Print the groups in the following order for each hand:  \n",
    "•\tCOLOR (in this order: RED, BLACK)\n",
    "•\tSUIT (in suit order: CLUB, DIAMOND, HEART, SPADE)\n",
    "•\tFACE VALUE (face value should be printed in ascending order – 2 is low, Ace is high.\n",
    "Example Output:\n",
    "\n",
    "HAND 1\n",
    "9-RED\n",
    "10-BLACK\n",
    "3-CLUBS\n",
    "3-DIAMONDS\n",
    "6-HEARTS\n",
    "7-SPADES\n",
    "2-2 cards\n",
    "2-3 cards\n",
    "1-4 card\n",
    "1-5 card\n",
    "3-7 cards\n",
    "1-8 card\n",
    "3-9 cards\n",
    "2-10 cards\n",
    "1-Jack\n",
    "1-Queen\n",
    "2-Aces\n",
    "HAND 2\n",
    "6-RED\n",
    "6-BLACK\n",
    "3-CLUBS\n",
    "2-DIAMONDS\n",
    "4-HEARTS\n",
    "3-SPADES\n",
    "1-2 card\n",
    "1-5 card\n",
    "1-6 card\n",
    "2-7 cards\n",
    "1-8 card\n",
    "1-9 card\n",
    "1-10 card\n",
    "2-Jacks\n",
    "1-King\n",
    "1-Ace\n",
    "HAND 3\n",
    "13-RED\n",
    "0-BLACK\n",
    "0-CLUBS\n",
    "5-DIAMONDS\n",
    "8-HEARTS\n",
    "0-SPADES\n",
    "1-2 card\n",
    "1-3 card\n",
    "1-4 card\n",
    "1-5 card\n",
    "1-7 card\n",
    "1-8 card\n",
    "1-9 card\n",
    "2-10 cards\n",
    "1-Jack\n",
    "2-Kings\n",
    "1-Ace\n",
    "\n",
    "```"
   ]
  },
  {
   "cell_type": "code",
   "execution_count": null,
   "metadata": {
    "collapsed": true
   },
   "outputs": [],
   "source": []
  },
  {
   "cell_type": "code",
   "execution_count": null,
   "metadata": {
    "collapsed": true
   },
   "outputs": [],
   "source": []
  },
  {
   "cell_type": "markdown",
   "metadata": {},
   "source": [
    "__5.4__ \n",
    "\n",
    "Pig Latin is a mysterious and often overlooked way of communicating.  We want to make sure that the art of speaking Pig Latin is not lost.  To help with this worthwhile task you will need to write an English to Pig Latin translator.\n",
    "\n",
    "For words that begin with a single consonant: take the consonant off the front of the word and add it to the end of the word. Then add “ay” to the very end.  Here are some examples:\n",
    "```\n",
    "cat = atcay          dog = ogday          simply = implysay          noise = oisenay\n",
    "```\n",
    "For words that began with multiple consonants: take the group of consonants off the front of the word and add them to the end of the word.  Then add “ay” to the very end.  Here are some examples:\n",
    "```\n",
    "scratch = atchscray          thick = ickthay          flight = ightflay          grime = imegray\n",
    "```\n",
    "For words that begin with a vowel, just add “yay” at the end.  For example:\n",
    "```\n",
    "is = isyay          apple = appleyay          under = underyay          octopus = octopusyay\n",
    "```\n",
    "For the sake of simplicity, we will consider the letter y to always be a consonant.  The only exception to these rules is the letter q.  Since the letter q needs the letter u, if you find a “qu” sequence in a word, treat that sequence as a single consonant character.  You will see an example of that in the example output below.\n",
    "\n",
    "For words that do not contain a vowel, simply keep the word the same.\n",
    "```\n",
    "\n",
    "\n",
    "\n",
    "The file Prob5.4.in.txt will contain phrases to be translated, one per line, all in lower case.\n",
    "\n",
    "__Example Input:__\n",
    "``\n",
    "pig latin rocks\n",
    "code quest is the best\n",
    "java rules\n",
    "```\n",
    "__Program Output__\n",
    "\n",
    "You should output the phrases translated to Pig Latin in the order they were in the input file.\n",
    "\n",
    "Example Output:\n",
    "```\n",
    "igpay atinlay ocksray\n",
    "odecay estquay isyay ethay estbay\n",
    "avajay ulesray\n",
    "```"
   ]
  },
  {
   "cell_type": "code",
   "execution_count": null,
   "metadata": {
    "collapsed": true
   },
   "outputs": [],
   "source": []
  },
  {
   "cell_type": "code",
   "execution_count": null,
   "metadata": {
    "collapsed": true
   },
   "outputs": [],
   "source": []
  }
 ],
 "metadata": {
  "anaconda-cloud": {},
  "kernelspec": {
   "display_name": "Python [conda root]",
   "language": "python",
   "name": "conda-root-py"
  },
  "language_info": {
   "codemirror_mode": {
    "name": "ipython",
    "version": 2
   },
   "file_extension": ".py",
   "mimetype": "text/x-python",
   "name": "python",
   "nbconvert_exporter": "python",
   "pygments_lexer": "ipython2",
   "version": "2.7.12"
  }
 },
 "nbformat": 4,
 "nbformat_minor": 1
}
