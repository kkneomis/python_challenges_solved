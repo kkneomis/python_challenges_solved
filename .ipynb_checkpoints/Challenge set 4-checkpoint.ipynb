{
 "cells": [
  {
   "cell_type": "markdown",
   "metadata": {},
   "source": [
    "# Challenge Set 4"
   ]
  },
  {
   "cell_type": "markdown",
   "metadata": {},
   "source": [
    "__4.1__ For this exercise, we will keep track of when our friend’s birthdays are, and be able to find that information based on their name. Create a dictionary (in your file) of names and birthdays. When you run your program it should ask the user to enter a name, and return the birthday of that person back to them. The interaction should look something like this:\n",
    "\n",
    "```\n",
    ">>> Welcome to the birthday dictionary. We know the birthdays of:\n",
    "Albert Einstein\n",
    "Benjamin Franklin\n",
    "Ada Lovelace\n",
    ">>> Who's birthday do you want to look up?\n",
    "Benjamin Franklin\n",
    ">>> Benjamin Franklin's birthday is 01/17/1706.\n",
    ">>> \n",
    "```"
   ]
  },
  {
   "cell_type": "code",
   "execution_count": 1,
   "metadata": {
    "collapsed": true
   },
   "outputs": [],
   "source": [
    "# code goes here\n",
    "birthdays = {\n",
    "    \"Albert Einstein\":\"March 14, 1879\",\n",
    "    \"Benjamin Franklin\":\"January 17, 1706\",\n",
    "    \"Ada Lovelace\":\"December 10, 1815\"\n",
    "}"
   ]
  },
  {
   "cell_type": "code",
   "execution_count": 4,
   "metadata": {
    "collapsed": true
   },
   "outputs": [],
   "source": [
    "def get_bdays():\n",
    "    print \"Welcome to the birthday dictionary. We know the birthdays of:\"\n",
    "    for name in birthdays.keys():\n",
    "        print name\n",
    "    person = raw_input(\"Who's birthday do you want to look up?\")\n",
    "    birthday =  birthdays.get(person, None)\n",
    "    if birthday:\n",
    "        print \"%s's birthday is %s \" % (person, birthday)"
   ]
  },
  {
   "cell_type": "code",
   "execution_count": 5,
   "metadata": {
    "collapsed": false
   },
   "outputs": [
    {
     "name": "stdout",
     "output_type": "stream",
     "text": [
      "Welcome to the birthday dictionary. We know the birthdays of:\n",
      "Ada Lovelace\n",
      "Benjamin Franklin\n",
      "Albert Einstein\n",
      "Who's birthday do you want to look up?Ada Lovelace\n",
      "Ada Lovelace's birthday is December 10, 1815 \n"
     ]
    }
   ],
   "source": [
    "get_bdays()"
   ]
  },
  {
   "cell_type": "markdown",
   "metadata": {},
   "source": [
    "__4.2__ Implement a function that takes as input three variables, and returns the largest of the three. Do this without using the Python max() function!\n",
    "\n",
    "The goal of this exercise is to think about some internals that Python normally takes care of for us. All you need is some variables and if statements!"
   ]
  },
  {
   "cell_type": "code",
   "execution_count": 13,
   "metadata": {
    "collapsed": true
   },
   "outputs": [],
   "source": [
    "# code goes here\n",
    "def get_largest_num(num1, num2, num3):\n",
    "    if num1 > num2:\n",
    "        if num1 > num3:\n",
    "            return num1\n",
    "        return num3\n",
    "    elif num2 > num3:\n",
    "        return num2\n",
    "    return num3"
   ]
  },
  {
   "cell_type": "code",
   "execution_count": 14,
   "metadata": {
    "collapsed": false
   },
   "outputs": [
    {
     "name": "stdout",
     "output_type": "stream",
     "text": [
      "3\n",
      "9999\n",
      "999\n",
      "5336\n"
     ]
    }
   ],
   "source": [
    "print get_largest_num(1,2,3)\n",
    "print get_largest_num(4,56,9999)\n",
    "print get_largest_num(999,56,3)\n",
    "print get_largest_num(4,5336,99)"
   ]
  },
  {
   "cell_type": "markdown",
   "metadata": {},
   "source": [
    "__4.3__ Create a python program to compute the collatz series for any given integer value < 100.\n",
    "\n",
    "ie i = 73, now print out what the collatz sequence would be...\n",
    "\n",
    " \n",
    "\n",
    "Read about it here:\n",
    "\n",
    "https://en.wikipedia.org/wiki/Collatz_conjecture (Links to an external site.)Links to an external site."
   ]
  },
  {
   "cell_type": "code",
   "execution_count": 23,
   "metadata": {
    "collapsed": false
   },
   "outputs": [],
   "source": [
    "# code goes here\n",
    "# The conjecture is that no matter what value of n, the sequence will always reach 1.\n",
    "def collatz(x):\n",
    "    if x == 1:\n",
    "        return x\n",
    "    elif x%2 ==0:\n",
    "        return collatz(x/2)\n",
    "    else:\n",
    "        return collatz(x*3 + 1)\n"
   ]
  },
  {
   "cell_type": "code",
   "execution_count": 25,
   "metadata": {
    "collapsed": false
   },
   "outputs": [
    {
     "name": "stdout",
     "output_type": "stream",
     "text": [
      "1\n",
      "1\n"
     ]
    }
   ],
   "source": [
    "print collatz(13)\n",
    "print collatz(13943434)"
   ]
  },
  {
   "cell_type": "markdown",
   "metadata": {},
   "source": [
    "__4.4__ Create a program that allows the user enter a sales record (which includes customer number, name, sales amount and a tax code).\n",
    "\n",
    "__tax code\ttax amount__  \n",
    "NRM\t6%  \n",
    "NPF\t0%  \n",
    "BIZ\t4.5%\n",
    "\n",
    "The program should output a total that includes the tax owed (if any)."
   ]
  },
  {
   "cell_type": "code",
   "execution_count": 27,
   "metadata": {
    "collapsed": true
   },
   "outputs": [],
   "source": [
    "# code goes here\n",
    "def checkout():\n",
    "    tax_codes={\n",
    "        \"NRM\":.06,\n",
    "        \"NPF\":.0,\n",
    "        \"BIZ\":.045\n",
    "    }\n",
    "    number = raw_input(\"What is your customer number?\")\n",
    "    name = raw_input(\"What is your name?\")\n",
    "    sales_amt = raw_input(\"How much did you purchase (in dollars?)\")\n",
    "    tax_code = raw_input(\"What is your tax code?\")\n",
    "    \n",
    "    print \"Customer number: %s\" % number\n",
    "    print \"Customer Name: %s\" % name\n",
    "    print \"Sales Amount: %s\" % sales_amt\n",
    "    print \"Taxcode: %s\" % tax_code\n",
    "    print \"___________\"\n",
    "    print tax_codes.get(tax_code)"
   ]
  },
  {
   "cell_type": "code",
   "execution_count": null,
   "metadata": {
    "collapsed": true
   },
   "outputs": [],
   "source": []
  },
  {
   "cell_type": "markdown",
   "metadata": {},
   "source": [
    "__4.5__ \n",
    "Write a program that prints the numbers from 1 to 100. But for multiples of three print “Fizz” instead of the number and for the multiples of five print “Buzz”. For numbers which are multiples of both three and five print “FizzBuzz”."
   ]
  },
  {
   "cell_type": "code",
   "execution_count": 2,
   "metadata": {
    "collapsed": true
   },
   "outputs": [],
   "source": [
    "# code goes here"
   ]
  },
  {
   "cell_type": "code",
   "execution_count": null,
   "metadata": {
    "collapsed": true
   },
   "outputs": [],
   "source": []
  }
 ],
 "metadata": {
  "anaconda-cloud": {},
  "kernelspec": {
   "display_name": "Python [conda root]",
   "language": "python",
   "name": "conda-root-py"
  },
  "language_info": {
   "codemirror_mode": {
    "name": "ipython",
    "version": 2
   },
   "file_extension": ".py",
   "mimetype": "text/x-python",
   "name": "python",
   "nbconvert_exporter": "python",
   "pygments_lexer": "ipython2",
   "version": "2.7.12"
  }
 },
 "nbformat": 4,
 "nbformat_minor": 1
}
